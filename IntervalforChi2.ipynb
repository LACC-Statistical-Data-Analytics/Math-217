{
  "nbformat": 4,
  "nbformat_minor": 0,
  "metadata": {
    "colab": {
      "provenance": []
    },
    "kernelspec": {
      "name": "python3",
      "display_name": "Python 3"
    },
    "language_info": {
      "name": "python"
    }
  },
  "cells": [
    {
      "cell_type": "code",
      "execution_count": 1,
      "metadata": {
        "colab": {
          "base_uri": "https://localhost:8080/"
        },
        "id": "FoVH-pQlhFlm",
        "outputId": "dfd9a927-e70c-4a01-9a58-bfe0af3147b2"
      },
      "outputs": [
        {
          "output_type": "stream",
          "name": "stdout",
          "text": [
            "Confidence interval for population standard deviation:\n",
            "Lower bound: 1.56\n",
            "Upper bound: 3.52\n"
          ]
        }
      ],
      "source": [
        "import numpy as np\n",
        "from scipy.stats import chi2\n",
        "import math\n",
        "import statistics\n",
        "\n",
        "def calculate_confidence_interval(data_set, confidence_level):\n",
        "  \"\"\"\n",
        "  Calculates the confidence interval for the population standard deviation.\n",
        "\n",
        "  Args:\n",
        "    data_set: A list of numerical data points.\n",
        "    confidence_level: The desired confidence level (between 0 and 1).\n",
        "\n",
        "  Returns:\n",
        "    A tuple containing the lower and upper bounds of the confidence interval.\n",
        "  \"\"\"\n",
        "  # Sample size\n",
        "  sample_size = len(data_set)\n",
        "\n",
        "  # Sample standard deviation\n",
        "  sample_stdev = statistics.stdev(data_set)\n",
        "\n",
        "  # Degrees of freedom\n",
        "  degrees_of_freedom = sample_size - 1\n",
        "\n",
        "  # Calculate the chi-squared values for the lower and upper bounds\n",
        "  alpha = 1 - confidence_level\n",
        "  lower_chi2 = chi2.ppf(alpha / 2, degrees_of_freedom)\n",
        "  upper_chi2 = chi2.ppf(1 - alpha / 2, degrees_of_freedom)\n",
        "\n",
        "  # Calculate the lower and upper bounds of the confidence interval\n",
        "  lower_bound = math.sqrt((degrees_of_freedom * sample_stdev ** 2) / upper_chi2)\n",
        "  upper_bound = math.sqrt((degrees_of_freedom * sample_stdev ** 2) / lower_chi2)\n",
        "\n",
        "  return lower_bound, upper_bound\n",
        "\n",
        "# Example usage\n",
        "data_set = [7.3, 10.2, 12.9, 10.8, 12.1, 6.6, 10.2, 9.0, 8.5, 7.1]\n",
        "confidence_level = 0.90\n",
        "lower, upper = calculate_confidence_interval(data_set, confidence_level)\n",
        "\n",
        "print(\"Confidence interval for population standard deviation:\")\n",
        "print(f\"Lower bound: {lower:.2f}\")\n",
        "print(f\"Upper bound: {upper:.2f}\")"
      ]
    }
  ]
}